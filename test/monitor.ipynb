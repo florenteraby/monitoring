{
 "cells": [
  {
   "cell_type": "code",
   "execution_count": null,
   "metadata": {},
   "outputs": [
    {
     "ename": "",
     "evalue": "",
     "output_type": "error",
     "traceback": [
      "\u001b[1;31mFailed to start Jupyter in the environment 'Python 3.9.2 64-bit (/usr/bin/python)'. \n",
      "View Jupyter <a href='command:jupyter.viewOutput'>log</a> for further details."
     ]
    }
   ],
   "source": [
    "to_parse = \"\"\"PING 8.8.8.8 (8.8.8.8): 56 data bytes\n",
    "64 bytes from 8.8.8.8: seq=0 ttl=115 time=13.199 ms\n",
    "\n",
    "--- 8.8.8.8 ping statistics ---\n",
    "1 packets transmitted, 1 packets received, 0% packet loss\n",
    "round-trip min/avg/max = 13.199/13.199/13.199 ms\"\"\"\n",
    "\n",
    "pingParsed = to_parse.split(\"\\n\")\n",
    "print(\"{}\".format(pingParsed))\n"
   ]
  },
  {
   "cell_type": "markdown",
   "metadata": {},
   "source": []
  },
  {
   "cell_type": "code",
   "execution_count": null,
   "metadata": {},
   "outputs": [],
   "source": []
  },
  {
   "cell_type": "code",
   "execution_count": null,
   "metadata": {},
   "outputs": [],
   "source": []
  }
 ],
 "metadata": {
  "interpreter": {
   "hash": "767d51c1340bd893661ea55ea3124f6de3c7a262a8b4abca0554b478b1e2ff90"
  },
  "kernelspec": {
   "display_name": "Python 3.9.2 64-bit",
   "language": "python",
   "name": "python3"
  },
  "language_info": {
   "name": "python",
   "version": "3.9.2"
  },
  "orig_nbformat": 4
 },
 "nbformat": 4,
 "nbformat_minor": 2
}
